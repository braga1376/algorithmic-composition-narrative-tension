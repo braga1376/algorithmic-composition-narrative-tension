{
 "cells": [
  {
   "cell_type": "markdown",
   "metadata": {},
   "source": [
    "# Motif Composer Test\n",
    "This notebook tests the `get_motif_llm` function from the `motif_composer.py` module. It demonstrates how musical motifs can be generated for different characters based on their roles and a given plot description using a Large Language Model (LLM). The generated motifs are then saved to pickle files, reloaded, and visualized using `music21`."
   ]
  },
  {
   "cell_type": "code",
   "execution_count": 1,
   "metadata": {},
   "outputs": [],
   "source": [
    "import sys\n",
    "sys.path.insert(0, '../')"
   ]
  },
  {
   "cell_type": "code",
   "execution_count": 3,
   "metadata": {},
   "outputs": [],
   "source": [
    "from narrative import *\n",
    "from narrative_tension import *\n",
    "from musical_narrative import *\n",
    "from utils import *\n",
    "from motif_composer import *\n",
    "from narrative_example import *\n",
    "import pickle\n",
    "import music21"
   ]
  },
  {
   "cell_type": "markdown",
   "metadata": {},
   "source": [
    "## 1. Narrative and Character Setup\n",
    "We begin by creating an example narrative structure. The description of this narrative and the roles of the characters within it will serve as contextual input for the motif generation process."
   ]
  },
  {
   "cell_type": "code",
   "execution_count": 4,
   "metadata": {},
   "outputs": [],
   "source": [
    "plot_schema = create_example_narrative_simple()"
   ]
  },
  {
   "cell_type": "markdown",
   "metadata": {},
   "source": [
    "The plot description is: \n",
    "1. Villain commits crime against victim\n",
    "2. Hero pursues villain\n",
    "3. Hero defeats villain\n",
    "\n",
    "For the full structure please refer to `narrative_explample.py`.\n",
    "\n",
    "Characters are extracted from the first plot atom of this narrative."
   ]
  },
  {
   "cell_type": "code",
   "execution_count": 9,
   "metadata": {},
   "outputs": [],
   "source": [
    "characters = plot_schema.get_unique_characters()"
   ]
  },
  {
   "cell_type": "code",
   "execution_count": 10,
   "metadata": {},
   "outputs": [
    {
     "name": "stdout",
     "output_type": "stream",
     "text": [
      "Characters in the plot schema:\n",
      "Character(name='Victim', character_type='victim', roles=[Role(name='target', axis='CONFLICT')])\n",
      "Character(name='Hero', character_type='hero', roles=[Role(name='pursuer', axis='CONFLICT'), Role(name='winner', axis='CONFLICT')])\n",
      "Character(name='Villain', character_type='villain', roles=[Role(name='perpetrator', axis='CONFLICT'), Role(name='pursued', axis='CONFLICT'), Role(name='looser', axis='CONFLICT')])\n"
     ]
    }
   ],
   "source": [
    "print(\"Characters in the plot schema:\")\n",
    "for character in characters:\n",
    "    print(character)"
   ]
  },
  {
   "cell_type": "code",
   "execution_count": 11,
   "metadata": {},
   "outputs": [
    {
     "name": "stdout",
     "output_type": "stream",
     "text": [
      "Hero: Hero, Roles: [Role(name='pursuer', axis='CONFLICT'), Role(name='winner', axis='CONFLICT')]\n",
      "Villain: Villain, Roles: [Role(name='perpetrator', axis='CONFLICT'), Role(name='pursued', axis='CONFLICT'), Role(name='looser', axis='CONFLICT')]\n",
      "Victim: Victim, Roles: [Role(name='target', axis='CONFLICT')]\n"
     ]
    }
   ],
   "source": [
    "victim = characters[0]\n",
    "hero = characters[1]\n",
    "villain = characters[2]\n",
    "print(f\"Hero: {hero.name}, Roles: {hero.roles}\")\n",
    "print(f\"Villain: {villain.name}, Roles: {villain.roles}\")\n",
    "print(f\"Victim: {victim.name}, Roles: {victim.roles}\")"
   ]
  },
  {
   "cell_type": "markdown",
   "metadata": {},
   "source": [
    "## 2. Generating Motif for Hero"
   ]
  },
  {
   "cell_type": "code",
   "execution_count": 13,
   "metadata": {},
   "outputs": [
    {
     "name": "stdout",
     "output_type": "stream",
     "text": [
      "Successfully parsed response:\n",
      "Explanation length: 1297 characters\n",
      "Motif length: 8 notes\n",
      "Motif: Motif(notes=[Note(pitch=60, duration=1.5, velocity=0.8, start_time=0, continues_to_next_bar=False, continues_from_prev_bar=False), Note(pitch=65, duration=0.5, velocity=0.8, start_time=1.5, continues_to_next_bar=False, continues_from_prev_bar=False), Note(pitch=69, duration=1.0, velocity=0.8, start_time=2.0, continues_to_next_bar=False, continues_from_prev_bar=False), Note(pitch=67, duration=1.0, velocity=0.8, start_time=3.0, continues_to_next_bar=False, continues_from_prev_bar=False), Note(pitch=65, duration=0.5, velocity=0.8, start_time=4.0, continues_to_next_bar=False, continues_from_prev_bar=False), Note(pitch=67, duration=0.5, velocity=0.8, start_time=4.5, continues_to_next_bar=False, continues_from_prev_bar=False), Note(pitch=65, duration=1.0, velocity=0.8, start_time=5.0, continues_to_next_bar=False, continues_from_prev_bar=False), Note(pitch=67, duration=2.0, velocity=0.8, start_time=6.0, continues_to_next_bar=False, continues_from_prev_bar=False)], key='F', is_major=True, tension_profile=None)\n",
      "LLM Explanation for Hero Motif: Analysis of Musical Decisions:\n",
      "\n",
      "For a hero character who pursues and ultimately achieves victory, I've designed a motif that embodies nobility, determination, and triumph. Here's my reasoning:\n",
      "\n",
      "Pitch Contour:\n",
      "- Opens with an ascending perfect fourth (C4 to F4), a classic heroic interval that suggests strength and nobility\n",
      "- Rises to A4, creating an upward trajectory that represents aspiration and courage\n",
      "- The descent and final rise creates a wave-like motion, suggesting ongoing pursuit and persistence\n",
      "- Ends on G4, leaving a sense of forward momentum for future development\n",
      "\n",
      "Rhythmic Elements:\n",
      "- Begins with a strong, dotted quarter note followed by an eighth note, creating a bold, martial rhythm\n",
      "- The quicker eighth notes in the middle suggest movement and pursuit\n",
      "- Returns to longer notes at the end, suggesting stability and control\n",
      "\n",
      "Character Arc Development Potential:\n",
      "- During pursuit scenes: Can be played faster with more staccato articulation\n",
      "- In victory moments: Can be augmented with fuller harmonization and longer note values\n",
      "- For villainy scenes: Can be adapted to minor mode or fragmented\n",
      "\n",
      "Tension and Release:\n",
      "- Initial fourth leap creates immediate tension\n",
      "- Eighth note sequence builds momentum\n",
      "- Final longer notes provide resolution while maintaining forward energy\n"
     ]
    }
   ],
   "source": [
    "result_hero = get_motif_llm(character=hero.name, character_roles=hero.roles, plot_description=plot_schema.get_description())\n",
    "motif_hero_llm = result_hero['motif']\n",
    "print(\"LLM Explanation for Hero Motif:\", result_hero['explanation'])"
   ]
  },
  {
   "cell_type": "markdown",
   "metadata": {},
   "source": [
    "The generated motif for the Hero is saved to a pickle file and then reloaded. This demonstrates persistence and reusability of motifs."
   ]
  },
  {
   "cell_type": "code",
   "execution_count": 17,
   "metadata": {},
   "outputs": [],
   "source": [
    "pickle.dump(motif_hero_llm, open(\"motif_hero.pkl\", \"wb\"))"
   ]
  },
  {
   "cell_type": "code",
   "execution_count": 12,
   "metadata": {},
   "outputs": [],
   "source": [
    "motif_hero_llm = pickle.load(open(\"motif_hero.pkl\", \"rb\"))"
   ]
  },
  {
   "cell_type": "markdown",
   "metadata": {},
   "source": [
    "The Hero's motif is then converted into a `music21` stream and displayed as a musical score."
   ]
  },
  {
   "cell_type": "code",
   "execution_count": 14,
   "metadata": {},
   "outputs": [],
   "source": [
    "motif_stream_hero = music21.stream.Stream()\n",
    "for note_data in motif_hero_llm.notes:\n",
    "    motif_stream_hero.append(music21.note.Note(note_data.pitch, quarterLength=note_data.duration))"
   ]
  },
  {
   "cell_type": "code",
   "execution_count": 15,
   "metadata": {},
   "outputs": [],
   "source": [
    "motif_stream_hero.show('musicxml')"
   ]
  },
  {
   "cell_type": "markdown",
   "metadata": {},
   "source": [
    "## 3. Generating Motif for Villain"
   ]
  },
  {
   "cell_type": "code",
   "execution_count": 16,
   "metadata": {},
   "outputs": [
    {
     "name": "stdout",
     "output_type": "stream",
     "text": [
      "Successfully parsed response:\n",
      "Explanation length: 1351 characters\n",
      "Motif length: 12 notes\n",
      "Motif: Motif(notes=[Note(pitch=50, duration=0.5, velocity=0.8, start_time=0, continues_to_next_bar=False, continues_from_prev_bar=False), Note(pitch=53, duration=0.5, velocity=0.8, start_time=0.5, continues_to_next_bar=False, continues_from_prev_bar=False), Note(pitch=56, duration=1.0, velocity=0.8, start_time=1.0, continues_to_next_bar=False, continues_from_prev_bar=False), Note(pitch=50, duration=0.5, velocity=0.8, start_time=2.0, continues_to_next_bar=False, continues_from_prev_bar=False), Note(pitch=53, duration=0.5, velocity=0.8, start_time=2.5, continues_to_next_bar=False, continues_from_prev_bar=False), Note(pitch=56, duration=1.0, velocity=0.8, start_time=3.0, continues_to_next_bar=False, continues_from_prev_bar=False), Note(pitch=55, duration=0.5, velocity=0.8, start_time=4.0, continues_to_next_bar=False, continues_from_prev_bar=False), Note(pitch=54, duration=0.5, velocity=0.8, start_time=4.5, continues_to_next_bar=False, continues_from_prev_bar=False), Note(pitch=53, duration=0.5, velocity=0.8, start_time=5.0, continues_to_next_bar=False, continues_from_prev_bar=False), Note(pitch=52, duration=0.5, velocity=0.8, start_time=5.5, continues_to_next_bar=False, continues_from_prev_bar=False), Note(pitch=51, duration=1.0, velocity=0.8, start_time=6.0, continues_to_next_bar=False, continues_from_prev_bar=False), Note(pitch=50, duration=1.0, velocity=0.8, start_time=7.0, continues_to_next_bar=False, continues_from_prev_bar=False)], key='C#', is_major=True, tension_profile=None)\n",
      "LLM Explanation for Villain Motif: Analysis of Musical Decisions:\n",
      "\n",
      "For a villain's motif, I'll draw inspiration from classical villain themes like Darth Vader's Imperial March and Jaws' shark theme, incorporating these key musical elements:\n",
      "\n",
      "1. Pitch Contour:\n",
      "- Using minor thirds and tritones to create tension and unease\n",
      "- Descending chromatic movement to suggest menace and inevitability\n",
      "- Sharp contrasts between high and low notes to represent unpredictability\n",
      "- Centered around D minor tonality for its dark qualities\n",
      "\n",
      "2. Rhythmic Elements:\n",
      "- Sharp, pointed rhythms with staccato implications\n",
      "- Use of sixteenth notes for aggressive energy\n",
      "- Syncopated pattern to create unsettling feel\n",
      "- Strong downbeats to represent power and authority\n",
      "\n",
      "3. Character Arc Development Potential:\n",
      "- Initial statement can be intensified during pursuit\n",
      "- Fragmentation possible during defeat\n",
      "- Rhythmic augmentation can represent growing threat\n",
      "- Can be inverted or distorted during final confrontation\n",
      "\n",
      "4. Tension Structure:\n",
      "- Opens with assertive statement\n",
      "- Builds tension through ascending motion\n",
      "- Creates instability through chromatic descent\n",
      "- Ends with unresolved feeling suggesting ongoing threat\n",
      "\n",
      "The motif uses a combination of aggressive rhythmic patterns and dissonant intervals to create a memorable, menacing theme that can be easily recognized and developed throughout the narrative.\n"
     ]
    }
   ],
   "source": [
    "result_villain = get_motif_llm(character=villain.name, character_roles=villain.roles, plot_description=plot_schema.get_description())\n",
    "motif_villain_llm = result_villain['motif']\n",
    "print(\"LLM Explanation for Villain Motif:\", result_villain['explanation'])"
   ]
  },
  {
   "cell_type": "markdown",
   "metadata": {},
   "source": [
    "Similarly, the Villain's motif is generated, saved, reloaded, and visualized."
   ]
  },
  {
   "cell_type": "code",
   "execution_count": 20,
   "metadata": {},
   "outputs": [],
   "source": [
    "pickle.dump(motif_villain_llm, open(\"motif_villain.pkl\", \"wb\"))"
   ]
  },
  {
   "cell_type": "code",
   "execution_count": 21,
   "metadata": {},
   "outputs": [],
   "source": [
    "motif_villain_llm = pickle.load(open(\"motif_villain.pkl\", \"rb\"))"
   ]
  },
  {
   "cell_type": "code",
   "execution_count": 18,
   "metadata": {},
   "outputs": [],
   "source": [
    "motif_stream_villain = music21.stream.Stream()\n",
    "for note_data in motif_villain_llm.notes:\n",
    "    motif_stream_villain.append(music21.note.Note(note_data.pitch, quarterLength=note_data.duration))"
   ]
  },
  {
   "cell_type": "code",
   "execution_count": 19,
   "metadata": {},
   "outputs": [],
   "source": [
    "motif_stream_villain.show('musicxml')"
   ]
  },
  {
   "cell_type": "markdown",
   "metadata": {},
   "source": [
    "## 4. Generating Motif for Victim"
   ]
  },
  {
   "cell_type": "code",
   "execution_count": 22,
   "metadata": {},
   "outputs": [
    {
     "name": "stdout",
     "output_type": "stream",
     "text": [
      "Successfully parsed response:\n",
      "Explanation length: 1243 characters\n",
      "Motif length: 7 notes\n",
      "Motif: Motif(notes=[Note(pitch=64, duration=2.0, velocity=0.8, start_time=0, continues_to_next_bar=False, continues_from_prev_bar=False), Note(pitch=63, duration=1.0, velocity=0.8, start_time=2.0, continues_to_next_bar=False, continues_from_prev_bar=False), Note(pitch=62, duration=1.0, velocity=0.8, start_time=3.0, continues_to_next_bar=False, continues_from_prev_bar=False), Note(pitch=60, duration=0.5, velocity=0.8, start_time=4.0, continues_to_next_bar=False, continues_from_prev_bar=False), Note(pitch=59, duration=0.5, velocity=0.8, start_time=4.5, continues_to_next_bar=False, continues_from_prev_bar=False), Note(pitch=57, duration=1.0, velocity=0.8, start_time=5.0, continues_to_next_bar=False, continues_from_prev_bar=False), Note(pitch=59, duration=2.0, velocity=0.8, start_time=6.0, continues_to_next_bar=False, continues_from_prev_bar=False)], key='A', is_major=False, tension_profile=None)\n"
     ]
    }
   ],
   "source": [
    "result_victim = get_motif_llm(character=victim.name, character_roles=victim.roles, plot_description=plot_schema.get_description())\n",
    "motif_victim_llm = result_victim['motif']"
   ]
  },
  {
   "cell_type": "markdown",
   "metadata": {},
   "source": [
    "The LLM's explanation for the Victim's motif is printed below. The motif is then saved, reloaded, and visualized."
   ]
  },
  {
   "cell_type": "code",
   "execution_count": 23,
   "metadata": {},
   "outputs": [
    {
     "name": "stdout",
     "output_type": "stream",
     "text": [
      "LLM Explanation for Victim Motif: Analysis of Musical Decisions for the Victim Motif:\n",
      "\n",
      "1. Pitch Contour Design:\n",
      "- Starting with a descending melodic line to represent vulnerability\n",
      "- Using minor intervals to convey distress and helplessness\n",
      "- Incorporating chromatic movement to suggest uncertainty and fear\n",
      "- Ending on a suspended note to reflect unresolved situation\n",
      "\n",
      "2. Rhythmic Elements:\n",
      "- Beginning with longer notes to establish a sense of stability that's soon disrupted\n",
      "- Using shorter notes in the middle to represent anxiety and instability\n",
      "- Ending with a sustained note suggesting helplessness\n",
      "- Syncopated rhythm to create tension and unease\n",
      "\n",
      "3. Character Arc Development Potential:\n",
      "- The descending line can be made more dramatic during the villainy scene\n",
      "- The middle section can be intensified during pursuit\n",
      "- The final sustained note can resolve upward during victory, transforming the victim's theme\n",
      "\n",
      "4. Tension and Release:\n",
      "- Initial stability followed by chromatic descent creates growing tension\n",
      "- Rhythmic acceleration in middle builds anxiety\n",
      "- Final sustained note provides partial release but maintains tension\n",
      "\n",
      "The motif uses E minor tonality, starting from E4 and descending chromatically, with a rhythm that begins stable but becomes more agitated:\n"
     ]
    }
   ],
   "source": [
    "print(\"LLM Explanation for Victim Motif:\", result_victim['explanation'])"
   ]
  },
  {
   "cell_type": "code",
   "execution_count": 24,
   "metadata": {},
   "outputs": [],
   "source": [
    "pickle.dump(motif_victim_llm, open(\"motif_victim.pkl\", \"wb\"))"
   ]
  },
  {
   "cell_type": "code",
   "execution_count": 25,
   "metadata": {},
   "outputs": [],
   "source": [
    "motif_victim_llm = pickle.load(open(\"motif_victim.pkl\", \"rb\"))"
   ]
  },
  {
   "cell_type": "code",
   "execution_count": 26,
   "metadata": {},
   "outputs": [],
   "source": [
    "motif_stream_victim = music21.stream.Stream()\n",
    "for note_data in motif_victim_llm.notes:\n",
    "    motif_stream_victim.append(music21.note.Note(note_data.pitch, quarterLength=note_data.duration))\n",
    "\n",
    "motif_stream_victim.show('musicxml')"
   ]
  },
  {
   "cell_type": "markdown",
   "metadata": {},
   "source": [
    "## 5. Conclusion\n",
    "This notebook successfully demonstrated the use of the `get_motif_llm` function to generate character-specific musical motifs. It showed the process of providing narrative and character context to an LLM, receiving a motif and an explanation for its musical characteristics, and then handling the motif data for storage (pickling) and visualization using `music21`. This capability is essential for creating personalized musical elements within the larger musical narrative generation system."
   ]
  }
 ],
 "metadata": {
  "kernelspec": {
   "display_name": "musical-narratives",
   "language": "python",
   "name": "python3"
  },
  "language_info": {
   "codemirror_mode": {
    "name": "ipython",
    "version": 3
   },
   "file_extension": ".py",
   "mimetype": "text/x-python",
   "name": "python",
   "nbconvert_exporter": "python",
   "pygments_lexer": "ipython3",
   "version": "3.12.4"
  }
 },
 "nbformat": 4,
 "nbformat_minor": 2
}
