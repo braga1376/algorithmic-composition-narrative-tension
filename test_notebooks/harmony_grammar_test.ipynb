{
 "cells": [
  {
   "cell_type": "markdown",
   "metadata": {},
   "source": [
    "# Harmony Grammar Test\n",
    "This notebook tests the functionality of the `HarmonyGrammar` class, which is responsible for generating harmonic progressions based on a context-free grammar.\n",
    "The tests will cover:\n",
    "1. Initialization of the grammar.\n",
    "2. Generation of a single random harmonic progression tree.\n",
    "3. Generation of all possible harmonic progressions within specified constraints (length, depth).\n",
    "4. Extraction and counting of unique terminal chord sequences from the generated progressions."
   ]
  },
  {
   "cell_type": "code",
   "execution_count": 1,
   "metadata": {},
   "outputs": [],
   "source": [
    "import sys\n",
    "sys.path.insert(0, '../')"
   ]
  },
  {
   "cell_type": "code",
   "execution_count": 2,
   "metadata": {},
   "outputs": [],
   "source": [
    "from harmony_grammar import *"
   ]
  },
  {
   "cell_type": "markdown",
   "metadata": {},
   "source": [
    "## 1. Initialize Harmony Grammar\n",
    "First, we instantiate the `HarmonyGrammar` class."
   ]
  },
  {
   "cell_type": "code",
   "execution_count": 3,
   "metadata": {},
   "outputs": [],
   "source": [
    "grammar = HarmonyGrammar()"
   ]
  },
  {
   "cell_type": "markdown",
   "metadata": {},
   "source": [
    "## 2. Generate a Single Progression Tree\n",
    "We can generate a single random harmonic progression. The result is a tree structure representing the derivation of the progression according to the grammar rules."
   ]
  },
  {
   "cell_type": "code",
   "execution_count": 4,
   "metadata": {},
   "outputs": [],
   "source": [
    "tree = grammar.generate_progression()"
   ]
  },
  {
   "cell_type": "markdown",
   "metadata": {},
   "source": [
    "Let's print the generated tree structure to visualize the progression and its derivation."
   ]
  },
  {
   "cell_type": "code",
   "execution_count": 5,
   "metadata": {},
   "outputs": [
    {
     "name": "stdout",
     "output_type": "stream",
     "text": [
      "└── TR\n",
      "    ├── TR\n",
      "    │   ├── DR\n",
      "    │   │   ├── SR\n",
      "    │   │   │   ├── SR\n",
      "    │   │   │   │   └── s\n",
      "    │   │   │   └── SR\n",
      "    │   │   │       ├── SR\n",
      "    │   │   │       │   └── s\n",
      "    │   │   │       └── SR\n",
      "    │   │   │           └── s\n",
      "    │   │   └── d\n",
      "    │   └── t\n",
      "    └── TR\n",
      "        └── t\n"
     ]
    }
   ],
   "source": [
    "tree.print_tree()"
   ]
  },
  {
   "cell_type": "markdown",
   "metadata": {},
   "source": [
    "## 3. Generate All Progressions\n",
    "The grammar can also be used to generate all possible progressions that satisfy certain constraints, such as minimum/maximum length and maximum derivation depth. This is useful for creating a diverse set of harmonic material."
   ]
  },
  {
   "cell_type": "code",
   "execution_count": 6,
   "metadata": {},
   "outputs": [
    {
     "name": "stdout",
     "output_type": "stream",
     "text": [
      "Generated 46 progressions with min_length=8, max_length=8, max_depth=5\n"
     ]
    }
   ],
   "source": [
    "all_progressions = grammar.generate_all_progressions(min_length=8, max_length=8, max_depth=5)\n",
    "print(f\"Generated {len(all_progressions)} progressions with min_length=8, max_length=8, max_depth=5\")"
   ]
  },
  {
   "cell_type": "markdown",
   "metadata": {},
   "source": [
    "We can inspect one of the generated progression trees from this set."
   ]
  },
  {
   "cell_type": "code",
   "execution_count": 7,
   "metadata": {},
   "outputs": [
    {
     "name": "stdout",
     "output_type": "stream",
     "text": [
      "└── TR\n",
      "    ├── TR\n",
      "    │   ├── TR\n",
      "    │   │   ├── TR\n",
      "    │   │   │   └── t\n",
      "    │   │   └── TR\n",
      "    │   │       └── t\n",
      "    │   └── DR\n",
      "    │       ├── SR\n",
      "    │       │   └── s\n",
      "    │       └── d\n",
      "    └── DR\n",
      "        ├── DR\n",
      "        │   ├── SR\n",
      "        │   │   └── s\n",
      "        │   └── d\n",
      "        └── DR\n",
      "            ├── SR\n",
      "            │   └── s\n",
      "            └── d\n"
     ]
    }
   ],
   "source": [
    "if len(all_progressions) > 4:\n",
    "    all_progressions[4].print_tree()\n",
    "else:\n",
    "    print(\"Not enough progressions generated to display the 5th one.\")"
   ]
  },
  {
   "cell_type": "markdown",
   "metadata": {},
   "source": [
    "## 4. Extract Unique Terminal Sequences\n",
    "From the generated progression trees, we can extract the terminal symbols, which represent the actual chord sequences. We can then find the set of unique chord sequences."
   ]
  },
  {
   "cell_type": "code",
   "execution_count": 8,
   "metadata": {},
   "outputs": [],
   "source": [
    "terminals = set(tuple(progression.get_terminals()) for progression in all_progressions)"
   ]
  },
  {
   "cell_type": "markdown",
   "metadata": {},
   "source": [
    "Let's see how many unique terminal chord sequences were generated under the given constraints."
   ]
  },
  {
   "cell_type": "code",
   "execution_count": 9,
   "metadata": {},
   "outputs": [
    {
     "name": "stdout",
     "output_type": "stream",
     "text": [
      "Number of unique terminal sequences: 46\n"
     ]
    }
   ],
   "source": [
    "print(f\"Number of unique terminal sequences: {len(terminals)}\")"
   ]
  },
  {
   "cell_type": "code",
   "execution_count": null,
   "metadata": {},
   "outputs": [
    {
     "name": "stdout",
     "output_type": "stream",
     "text": [
      "Progression 1: [<Symbol.d: 'd'>, <Symbol.t: 't'>, <Symbol.s: 's'>, <Symbol.d: 'd'>, <Symbol.s: 's'>, <Symbol.d: 'd'>, <Symbol.s: 's'>, <Symbol.d: 'd'>]\n",
      "Progression 2: [<Symbol.d: 'd'>, <Symbol.t: 't'>, <Symbol.d: 'd'>, <Symbol.d: 'd'>, <Symbol.s: 's'>, <Symbol.d: 'd'>, <Symbol.s: 's'>, <Symbol.d: 'd'>]\n",
      "Progression 3: [<Symbol.t: 't'>, <Symbol.d: 'd'>, <Symbol.s: 's'>, <Symbol.d: 'd'>, <Symbol.s: 's'>, <Symbol.d: 'd'>, <Symbol.s: 's'>, <Symbol.d: 'd'>]\n",
      "Progression 4: [<Symbol.t: 't'>, <Symbol.d: 'd'>, <Symbol.d: 'd'>, <Symbol.d: 'd'>, <Symbol.s: 's'>, <Symbol.d: 'd'>, <Symbol.s: 's'>, <Symbol.d: 'd'>]\n",
      "Progression 5: [<Symbol.t: 't'>, <Symbol.t: 't'>, <Symbol.s: 's'>, <Symbol.d: 'd'>, <Symbol.s: 's'>, <Symbol.d: 'd'>, <Symbol.s: 's'>, <Symbol.d: 'd'>]\n"
     ]
    }
   ],
   "source": [
    "# Print the terminals of first 5 progressions\n",
    "for i, progression in enumerate(all_progressions[:5]):\n",
    "    print(f\"Progression {i+1}: {progression.get_terminals()}\")"
   ]
  }
 ],
 "metadata": {
  "kernelspec": {
   "display_name": "musical-narratives",
   "language": "python",
   "name": "python3"
  },
  "language_info": {
   "codemirror_mode": {
    "name": "ipython",
    "version": 3
   },
   "file_extension": ".py",
   "mimetype": "text/x-python",
   "name": "python",
   "nbconvert_exporter": "python",
   "pygments_lexer": "ipython3",
   "version": "3.12.4"
  }
 },
 "nbformat": 4,
 "nbformat_minor": 2
}
